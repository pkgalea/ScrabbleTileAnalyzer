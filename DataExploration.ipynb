{
 "cells": [
  {
   "cell_type": "code",
   "execution_count": 3,
   "metadata": {},
   "outputs": [],
   "source": [
    "import psycopg2 as pg2\n",
    "import pandas as pd\n",
    "\n",
    "import matplotlib.pyplot as plt\n",
    "import numpy as np\n",
    "\n",
    "%matplotlib inline\n",
    "plt.style.use('ggplot')\n"
   ]
  },
  {
   "cell_type": "code",
   "execution_count": 86,
   "metadata": {},
   "outputs": [
    {
     "name": "stdout",
     "output_type": "stream",
     "text": [
      "(755464, 18)\n",
      "(745372, 18)\n"
     ]
    }
   ],
   "source": [
    "\n",
    "conn = pg2.connect(user='postgres',  dbname='scrabble', host='localhost', port='5432', password='myPassword')\n",
    "cur = conn.cursor()\n",
    "\n",
    "sql = \"\"\"SELECT * from turn where \n",
    "gamenum NOT IN (SELECT gamenum from game where p1_final_score > 800 or p1_final_score < 150) AND\n",
    "gamenum NOT IN (SELECT gamenum from game where p2_final_score > 800 or p2_final_score < 150)\n",
    "\n",
    "and challenged_away = FALSE and is_challenge=FALSE\n",
    "and is_exchange=FALSE\"\"\"\n",
    "\n",
    "df = pd.read_sql(sql ,con=conn)\n",
    "df_games = pd.read_sql(\"SELECT * from game\", con=conn)\n",
    "\n",
    "\n",
    "#df = df[df[\"move\"].apply(lambda x: not x.startswith('-chl-'))]\n",
    "#df = df[df[\"move\"].apply(lambda x: x != '---')]\n",
    "df[\"move\"] = df[\"move\"].apply(lambda x: x.replace('.', ''))\n",
    "df[\"movelen\"] = df[\"move\"].apply(lambda x: len(x))\n",
    "print(df.shape)\n",
    "df_by_game = df.groupby(df[\"gamenum\"]).sum()\n",
    "df = df[df.gamenum.isin(df_by_game[(df_by_game.movelen <= 100) & (df_by_game.movelen >= 93)].index)]\n",
    "print (df.shape)"
   ]
  },
  {
   "cell_type": "code",
   "execution_count": 5,
   "metadata": {},
   "outputs": [],
   "source": [
    "df_all_letters = df.groupby(['gamenum','is_player2'])['move'].apply(''.join).reset_index()\n",
    "\n",
    "def find_blanks(s):\n",
    "    return \"\".join(sorted([l if l.isupper() else '?' for l in s]))\n",
    "\n",
    "df_all_letters[\"letters_cleaned\"] = df_all_letters['move'].apply(find_blanks)"
   ]
  },
  {
   "cell_type": "code",
   "execution_count": 6,
   "metadata": {},
   "outputs": [
    {
     "data": {
      "text/html": [
       "<div>\n",
       "<style scoped>\n",
       "    .dataframe tbody tr th:only-of-type {\n",
       "        vertical-align: middle;\n",
       "    }\n",
       "\n",
       "    .dataframe tbody tr th {\n",
       "        vertical-align: top;\n",
       "    }\n",
       "\n",
       "    .dataframe thead th {\n",
       "        text-align: right;\n",
       "    }\n",
       "</style>\n",
       "<table border=\"1\" class=\"dataframe\">\n",
       "  <thead>\n",
       "    <tr style=\"text-align: right;\">\n",
       "      <th></th>\n",
       "      <th>gamenum</th>\n",
       "      <th>is_player2</th>\n",
       "      <th>move</th>\n",
       "      <th>letters_cleaned</th>\n",
       "    </tr>\n",
       "  </thead>\n",
       "  <tbody>\n",
       "    <tr>\n",
       "      <td>0</td>\n",
       "      <td>1</td>\n",
       "      <td>0</td>\n",
       "      <td>QIPOISOJAWAREDEMOIGDIFDILAIONONETROLLERMAHOEAY...</td>\n",
       "      <td>AAAAADDDEEEEEFGGHIIIIIIJLLLMMNNOOOOOOOPQRRRRST...</td>\n",
       "    </tr>\n",
       "    <tr>\n",
       "      <td>1</td>\n",
       "      <td>1</td>\n",
       "      <td>1</td>\n",
       "      <td>VEXUNSINTENSEAZETURBTTWICPALSYBCKmODIFiENAGHEART</td>\n",
       "      <td>??AAAABBCCDEEEEEEFGHIIIKLNNNNOPRRSSSTTTTTUUVWXYZ</td>\n",
       "    </tr>\n",
       "    <tr>\n",
       "      <td>2</td>\n",
       "      <td>8</td>\n",
       "      <td>0</td>\n",
       "      <td>FICOSOLATINXBAARURGOREHOPHIEFAMDENUTGIEZONeNUT</td>\n",
       "      <td>?AAAABCDEEEEFFGGHHIIIILMNNNNOOOOOPRRRSTTTUUUXZ</td>\n",
       "    </tr>\n",
       "    <tr>\n",
       "      <td>3</td>\n",
       "      <td>8</td>\n",
       "      <td>1</td>\n",
       "      <td>dEATIONDILYCIGOMALAYESQUAREVEEPSNERVEBLWDKTITW...</td>\n",
       "      <td>?AAAAABCDDDEEEEEEEEGIIIIJKLLLMNNOOOPQRRRSSTTTU...</td>\n",
       "    </tr>\n",
       "    <tr>\n",
       "      <td>4</td>\n",
       "      <td>9</td>\n",
       "      <td>0</td>\n",
       "      <td>COZGALAVIWYImPLIESFRUTIERNAFLANINGSQUAWJOHOBOV...</td>\n",
       "      <td>??AAAAABCDEEFFGGHIIIIIIJKLLLMNNNOOOOPQRRRSSTTU...</td>\n",
       "    </tr>\n",
       "    <tr>\n",
       "      <td>...</td>\n",
       "      <td>...</td>\n",
       "      <td>...</td>\n",
       "      <td>...</td>\n",
       "      <td>...</td>\n",
       "    </tr>\n",
       "    <tr>\n",
       "      <td>59949</td>\n",
       "      <td>34533</td>\n",
       "      <td>1</td>\n",
       "      <td>CLOTEFTUIJOTQIHONVUGWYNPECTeRSNUBOUPASAE</td>\n",
       "      <td>?AABCCEEEFGHIIJLNNNOOOOPPQRSSTTTTUUUUVWY</td>\n",
       "    </tr>\n",
       "    <tr>\n",
       "      <td>59950</td>\n",
       "      <td>34534</td>\n",
       "      <td>0</td>\n",
       "      <td>IRONYJTOIENTERVOMRCHWEDWHELKSAXVULBEADEOPRIZ</td>\n",
       "      <td>AABCDDEEEEEEHHIIIJKLLMNNOOOOPRRRRSTTUVVWWXYZ</td>\n",
       "    </tr>\n",
       "    <tr>\n",
       "      <td>59951</td>\n",
       "      <td>34534</td>\n",
       "      <td>1</td>\n",
       "      <td>TUNELeDADOOIGAMBIUNTQUAtINGAORTICINEFLEASPAISA...</td>\n",
       "      <td>??AAAAAAABCDDEEEEFFGGGIIIIIILLMNNNNOOOOPQRRSSS...</td>\n",
       "    </tr>\n",
       "    <tr>\n",
       "      <td>59952</td>\n",
       "      <td>34535</td>\n",
       "      <td>0</td>\n",
       "      <td>DOCKEDHUEZROESRANQINGRAFTGMBmYLONITOWGIROLIMPE...</td>\n",
       "      <td>?AAABCDDDEEEEEFFGGGHIIIIKLLMMNNNOOOOOPQRRRRSTT...</td>\n",
       "    </tr>\n",
       "    <tr>\n",
       "      <td>59953</td>\n",
       "      <td>34535</td>\n",
       "      <td>1</td>\n",
       "      <td>RETAPEsEONEXITETHANEVENYLUVSCASASTRUAJWLOIDIOBIA</td>\n",
       "      <td>?AAAAAABCDEEEEEEEHIIIIJLLNNNOOOPRRSSSTTTTUUVVWXY</td>\n",
       "    </tr>\n",
       "  </tbody>\n",
       "</table>\n",
       "<p>59954 rows × 4 columns</p>\n",
       "</div>"
      ],
      "text/plain": [
       "       gamenum is_player2                                               move  \\\n",
       "0            1          0  QIPOISOJAWAREDEMOIGDIFDILAIONONETROLLERMAHOEAY...   \n",
       "1            1          1   VEXUNSINTENSEAZETURBTTWICPALSYBCKmODIFiENAGHEART   \n",
       "2            8          0     FICOSOLATINXBAARURGOREHOPHIEFAMDENUTGIEZONeNUT   \n",
       "3            8          1  dEATIONDILYCIGOMALAYESQUAREVEEPSNERVEBLWDKTITW...   \n",
       "4            9          0  COZGALAVIWYImPLIESFRUTIERNAFLANINGSQUAWJOHOBOV...   \n",
       "...        ...        ...                                                ...   \n",
       "59949    34533          1           CLOTEFTUIJOTQIHONVUGWYNPECTeRSNUBOUPASAE   \n",
       "59950    34534          0       IRONYJTOIENTERVOMRCHWEDWHELKSAXVULBEADEOPRIZ   \n",
       "59951    34534          1  TUNELeDADOOIGAMBIUNTQUAtINGAORTICINEFLEASPAISA...   \n",
       "59952    34535          0  DOCKEDHUEZROESRANQINGRAFTGMBmYLONITOWGIROLIMPE...   \n",
       "59953    34535          1   RETAPEsEONEXITETHANEVENYLUVSCASASTRUAJWLOIDIOBIA   \n",
       "\n",
       "                                         letters_cleaned  \n",
       "0      AAAAADDDEEEEEFGGHIIIIIIJLLLMMNNOOOOOOOPQRRRRST...  \n",
       "1       ??AAAABBCCDEEEEEEFGHIIIKLNNNNOPRRSSSTTTTTUUVWXYZ  \n",
       "2         ?AAAABCDEEEEFFGGHHIIIILMNNNNOOOOOPRRRSTTTUUUXZ  \n",
       "3      ?AAAAABCDDDEEEEEEEEGIIIIJKLLLMNNOOOPQRRRSSTTTU...  \n",
       "4      ??AAAAABCDEEFFGGHIIIIIIJKLLLMNNNOOOOPQRRRSSTTU...  \n",
       "...                                                  ...  \n",
       "59949           ?AABCCEEEFGHIIJLNNNOOOOPPQRSSTTTTUUUUVWY  \n",
       "59950       AABCDDEEEEEEHHIIIJKLLMNNOOOOPRRRRSTTUVVWWXYZ  \n",
       "59951  ??AAAAAAABCDDEEEEFFGGGIIIIIILLMNNNNOOOOPQRRSSS...  \n",
       "59952  ?AAABCDDDEEEEEFFGGGHIIIIKLLMMNNNOOOOOPQRRRRSTT...  \n",
       "59953   ?AAAAAABCDEEEEEEEHIIIIJLLNNNOOOPRRSSSTTTTUUVVWXY  \n",
       "\n",
       "[59954 rows x 4 columns]"
      ]
     },
     "execution_count": 6,
     "metadata": {},
     "output_type": "execute_result"
    }
   ],
   "source": [
    "df_all_letters"
   ]
  },
  {
   "cell_type": "code",
   "execution_count": null,
   "metadata": {},
   "outputs": [],
   "source": []
  },
  {
   "cell_type": "code",
   "execution_count": 7,
   "metadata": {},
   "outputs": [],
   "source": [
    "p2_scores = df_all_letters[df_all_letters.is_player2==\" 1\"].merge(df_games, left_on=\"gamenum\", right_on=\"gamenum\")\n",
    "\n",
    "p1_scores = df_all_letters[df_all_letters.is_player2==\" 0\"].merge(df_games, left_on=\"gamenum\", right_on=\"gamenum\")"
   ]
  },
  {
   "cell_type": "code",
   "execution_count": 57,
   "metadata": {},
   "outputs": [
    {
     "data": {
      "text/html": [
       "<div>\n",
       "<style scoped>\n",
       "    .dataframe tbody tr th:only-of-type {\n",
       "        vertical-align: middle;\n",
       "    }\n",
       "\n",
       "    .dataframe tbody tr th {\n",
       "        vertical-align: top;\n",
       "    }\n",
       "\n",
       "    .dataframe thead th {\n",
       "        text-align: right;\n",
       "    }\n",
       "</style>\n",
       "<table border=\"1\" class=\"dataframe\">\n",
       "  <thead>\n",
       "    <tr style=\"text-align: right;\">\n",
       "      <th></th>\n",
       "      <th>gamenum</th>\n",
       "      <th>is_player2</th>\n",
       "      <th>move</th>\n",
       "      <th>letters_cleaned</th>\n",
       "      <th>p1_id</th>\n",
       "      <th>p1_name</th>\n",
       "      <th>p2_id</th>\n",
       "      <th>p2_name</th>\n",
       "      <th>lexicon</th>\n",
       "      <th>p1_final_score</th>\n",
       "      <th>p2_final_score</th>\n",
       "    </tr>\n",
       "  </thead>\n",
       "  <tbody>\n",
       "  </tbody>\n",
       "</table>\n",
       "</div>"
      ],
      "text/plain": [
       "Empty DataFrame\n",
       "Columns: [gamenum, is_player2, move, letters_cleaned, p1_id, p1_name, p2_id, p2_name, lexicon, p1_final_score, p2_final_score]\n",
       "Index: []"
      ]
     },
     "execution_count": 57,
     "metadata": {},
     "output_type": "execute_result"
    }
   ],
   "source": [
    "p1_scores[p1_scores.p1_final_score < 150]"
   ]
  },
  {
   "cell_type": "code",
   "execution_count": 129,
   "metadata": {},
   "outputs": [
    {
     "data": {
      "text/plain": [
       "425.07684676939357"
      ]
     },
     "execution_count": 129,
     "metadata": {},
     "output_type": "execute_result"
    }
   ],
   "source": [
    "np.mean(p1_scores[p1_scores.letters_cleaned.apply(lambda x: \"J\" in x)][\"p1_final_score\"])"
   ]
  },
  {
   "cell_type": "code",
   "execution_count": 70,
   "metadata": {},
   "outputs": [
    {
     "data": {
      "text/html": [
       "<div>\n",
       "<style scoped>\n",
       "    .dataframe tbody tr th:only-of-type {\n",
       "        vertical-align: middle;\n",
       "    }\n",
       "\n",
       "    .dataframe tbody tr th {\n",
       "        vertical-align: top;\n",
       "    }\n",
       "\n",
       "    .dataframe thead th {\n",
       "        text-align: right;\n",
       "    }\n",
       "</style>\n",
       "<table border=\"1\" class=\"dataframe\">\n",
       "  <thead>\n",
       "    <tr style=\"text-align: right;\">\n",
       "      <th></th>\n",
       "      <th>gamenum</th>\n",
       "      <th>is_player2</th>\n",
       "      <th>move</th>\n",
       "      <th>letters_cleaned</th>\n",
       "      <th>p1_id</th>\n",
       "      <th>p1_name</th>\n",
       "      <th>p2_id</th>\n",
       "      <th>p2_name</th>\n",
       "      <th>lexicon</th>\n",
       "      <th>p1_final_score</th>\n",
       "      <th>p2_final_score</th>\n",
       "    </tr>\n",
       "  </thead>\n",
       "  <tbody>\n",
       "    <tr>\n",
       "      <td>0</td>\n",
       "      <td>1</td>\n",
       "      <td>0</td>\n",
       "      <td>AYGURUQIPOISOJAWAREDEMOIGDIFDILAIONONETROLLERM...</td>\n",
       "      <td>AAAAADDDEEEEEFGGHIIIIIIJLLLMMNNOOOOOOOPQRRRRST...</td>\n",
       "      <td>500</td>\n",
       "      <td>John O'Laughlin</td>\n",
       "      <td>10122</td>\n",
       "      <td>Seth Lipkin</td>\n",
       "      <td>TWL06</td>\n",
       "      <td>442.0</td>\n",
       "      <td>424.0</td>\n",
       "    </tr>\n",
       "    <tr>\n",
       "      <td>1</td>\n",
       "      <td>8</td>\n",
       "      <td>0</td>\n",
       "      <td>FICOSOLATINXBAARURGOREHOPHIEFAMDENUTGIEZONeNUT</td>\n",
       "      <td>?AAAABCDEEEEFFGGHHIIIILMNNNNOOOOOPRRRSTTTUUUXZ</td>\n",
       "      <td>10122</td>\n",
       "      <td>Seth Lipkin</td>\n",
       "      <td>66</td>\n",
       "      <td>Joel Horn</td>\n",
       "      <td>TWL06</td>\n",
       "      <td>316.0</td>\n",
       "      <td>366.0</td>\n",
       "    </tr>\n",
       "    <tr>\n",
       "      <td>2</td>\n",
       "      <td>9</td>\n",
       "      <td>0</td>\n",
       "      <td>TRUKCOZGALAVIWYImPLIESFRUTIERNAFLANINGSQUAWJOH...</td>\n",
       "      <td>??AAAAABCDEEFFGGHIIIIIIJKLLLMNNNOOOOPQRRRSSTTU...</td>\n",
       "      <td>590</td>\n",
       "      <td>Debbie Stegman</td>\n",
       "      <td>10122</td>\n",
       "      <td>Seth Lipkin</td>\n",
       "      <td>TWL06</td>\n",
       "      <td>476.0</td>\n",
       "      <td>333.0</td>\n",
       "    </tr>\n",
       "    <tr>\n",
       "      <td>3</td>\n",
       "      <td>10</td>\n",
       "      <td>0</td>\n",
       "      <td>INSETTEVGILGEEFEYJOFULNOSTRIlINKRAXDEAVAWARHLO...</td>\n",
       "      <td>?AAAAABDEEEEEEEEFFGGHIIIIJKLLLNNNOOOOORRRSSTTT...</td>\n",
       "      <td>1954</td>\n",
       "      <td>Kate Fukawa-Connelly</td>\n",
       "      <td>1787</td>\n",
       "      <td>Dielle Saldanha</td>\n",
       "      <td>TWL06</td>\n",
       "      <td>395.0</td>\n",
       "      <td>351.0</td>\n",
       "    </tr>\n",
       "    <tr>\n",
       "      <td>4</td>\n",
       "      <td>11</td>\n",
       "      <td>0</td>\n",
       "      <td>COALYREODoNTEENSIERWAIVOBIAHUMANEPOMRAWINAXFEY...</td>\n",
       "      <td>?AAAAAAABCDDEEEEEEFHIIIIILMMNNNNOOOOPRRRRSTTTU...</td>\n",
       "      <td>10122</td>\n",
       "      <td>Seth Lipkin</td>\n",
       "      <td>1598</td>\n",
       "      <td>Ben Dweck</td>\n",
       "      <td>TWL06</td>\n",
       "      <td>430.0</td>\n",
       "      <td>434.0</td>\n",
       "    </tr>\n",
       "    <tr>\n",
       "      <td>...</td>\n",
       "      <td>...</td>\n",
       "      <td>...</td>\n",
       "      <td>...</td>\n",
       "      <td>...</td>\n",
       "      <td>...</td>\n",
       "      <td>...</td>\n",
       "      <td>...</td>\n",
       "      <td>...</td>\n",
       "      <td>...</td>\n",
       "      <td>...</td>\n",
       "      <td>...</td>\n",
       "    </tr>\n",
       "    <tr>\n",
       "      <td>29988</td>\n",
       "      <td>34531</td>\n",
       "      <td>0</td>\n",
       "      <td>APOTROPARYNOAUGRAZIeRFIBROSEHAEMELEETOADCIMVIS...</td>\n",
       "      <td>?AAAAAAABCDDEEEEEFGGHIIIIIILLMMNNOOOOOOPPQRRRR...</td>\n",
       "      <td>20411</td>\n",
       "      <td>jvc</td>\n",
       "      <td>564</td>\n",
       "      <td>Terry</td>\n",
       "      <td>CSW19</td>\n",
       "      <td>502.0</td>\n",
       "      <td>328.0</td>\n",
       "    </tr>\n",
       "    <tr>\n",
       "      <td>29989</td>\n",
       "      <td>34532</td>\n",
       "      <td>0</td>\n",
       "      <td>COOKWEBZPJOINTDHSUQRIDNUHAIAINGrATEDREWNET</td>\n",
       "      <td>?AAABCDDDEEEEGHHIIIIJKNNNNOOOPQRRSTTTUUWWZ</td>\n",
       "      <td>564</td>\n",
       "      <td>Terry</td>\n",
       "      <td>20411</td>\n",
       "      <td>jvc</td>\n",
       "      <td>CSW19</td>\n",
       "      <td>364.0</td>\n",
       "      <td>485.0</td>\n",
       "    </tr>\n",
       "    <tr>\n",
       "      <td>29990</td>\n",
       "      <td>34533</td>\n",
       "      <td>0</td>\n",
       "      <td>BAONHYEDORMDISLEAFGREIZESDARRINEMIgRAONGWKEODA...</td>\n",
       "      <td>?AAAAAAABDDDDEEEEEEEEFGGHIIIIIIKLMMNNNOOOORRRR...</td>\n",
       "      <td>18086</td>\n",
       "      <td>Matt</td>\n",
       "      <td>20411</td>\n",
       "      <td>jvc</td>\n",
       "      <td>CSW19</td>\n",
       "      <td>526.0</td>\n",
       "      <td>343.0</td>\n",
       "    </tr>\n",
       "    <tr>\n",
       "      <td>29991</td>\n",
       "      <td>34534</td>\n",
       "      <td>0</td>\n",
       "      <td>IRONYJTOIENTERVOMRCHWEDWHELKSAXVULBEADEOPRIZ</td>\n",
       "      <td>AABCDDEEEEEEHHIIIJKLLMNNOOOOPRRRRSTTUVVWWXYZ</td>\n",
       "      <td>20032</td>\n",
       "      <td>jackson</td>\n",
       "      <td>17589</td>\n",
       "      <td>joey</td>\n",
       "      <td>NSW18</td>\n",
       "      <td>348.0</td>\n",
       "      <td>378.0</td>\n",
       "    </tr>\n",
       "    <tr>\n",
       "      <td>29992</td>\n",
       "      <td>34535</td>\n",
       "      <td>0</td>\n",
       "      <td>AEFUDDOCKEDHUEZROESRANQINGRAFTGMBmYLONITOWGIRO...</td>\n",
       "      <td>?AAABCDDDEEEEEFFGGGHIIIIKLLMMNNNOOOOOPQRRRRSTT...</td>\n",
       "      <td>3125</td>\n",
       "      <td>ken</td>\n",
       "      <td>17589</td>\n",
       "      <td>joey</td>\n",
       "      <td>NSW18</td>\n",
       "      <td>436.0</td>\n",
       "      <td>392.0</td>\n",
       "    </tr>\n",
       "  </tbody>\n",
       "</table>\n",
       "<p>29993 rows × 11 columns</p>\n",
       "</div>"
      ],
      "text/plain": [
       "       gamenum is_player2                                               move  \\\n",
       "0            1          0  AYGURUQIPOISOJAWAREDEMOIGDIFDILAIONONETROLLERM...   \n",
       "1            8          0     FICOSOLATINXBAARURGOREHOPHIEFAMDENUTGIEZONeNUT   \n",
       "2            9          0  TRUKCOZGALAVIWYImPLIESFRUTIERNAFLANINGSQUAWJOH...   \n",
       "3           10          0  INSETTEVGILGEEFEYJOFULNOSTRIlINKRAXDEAVAWARHLO...   \n",
       "4           11          0  COALYREODoNTEENSIERWAIVOBIAHUMANEPOMRAWINAXFEY...   \n",
       "...        ...        ...                                                ...   \n",
       "29988    34531          0  APOTROPARYNOAUGRAZIeRFIBROSEHAEMELEETOADCIMVIS...   \n",
       "29989    34532          0         COOKWEBZPJOINTDHSUQRIDNUHAIAINGrATEDREWNET   \n",
       "29990    34533          0  BAONHYEDORMDISLEAFGREIZESDARRINEMIgRAONGWKEODA...   \n",
       "29991    34534          0       IRONYJTOIENTERVOMRCHWEDWHELKSAXVULBEADEOPRIZ   \n",
       "29992    34535          0  AEFUDDOCKEDHUEZROESRANQINGRAFTGMBmYLONITOWGIRO...   \n",
       "\n",
       "                                         letters_cleaned  p1_id  \\\n",
       "0      AAAAADDDEEEEEFGGHIIIIIIJLLLMMNNOOOOOOOPQRRRRST...    500   \n",
       "1         ?AAAABCDEEEEFFGGHHIIIILMNNNNOOOOOPRRRSTTTUUUXZ  10122   \n",
       "2      ??AAAAABCDEEFFGGHIIIIIIJKLLLMNNNOOOOPQRRRSSTTU...    590   \n",
       "3      ?AAAAABDEEEEEEEEFFGGHIIIIJKLLLNNNOOOOORRRSSTTT...   1954   \n",
       "4      ?AAAAAAABCDDEEEEEEFHIIIIILMMNNNNOOOOPRRRRSTTTU...  10122   \n",
       "...                                                  ...    ...   \n",
       "29988  ?AAAAAAABCDDEEEEEFGGHIIIIIILLMMNNOOOOOOPPQRRRR...  20411   \n",
       "29989         ?AAABCDDDEEEEGHHIIIIJKNNNNOOOPQRRSTTTUUWWZ    564   \n",
       "29990  ?AAAAAAABDDDDEEEEEEEEFGGHIIIIIIKLMMNNNOOOORRRR...  18086   \n",
       "29991       AABCDDEEEEEEHHIIIJKLLMNNOOOOPRRRRSTTUVVWWXYZ  20032   \n",
       "29992  ?AAABCDDDEEEEEFFGGGHIIIIKLLMMNNNOOOOOPQRRRRSTT...   3125   \n",
       "\n",
       "                    p1_name  p2_id          p2_name lexicon  p1_final_score  \\\n",
       "0           John O'Laughlin  10122      Seth Lipkin   TWL06           442.0   \n",
       "1               Seth Lipkin     66        Joel Horn   TWL06           316.0   \n",
       "2            Debbie Stegman  10122      Seth Lipkin   TWL06           476.0   \n",
       "3      Kate Fukawa-Connelly   1787  Dielle Saldanha   TWL06           395.0   \n",
       "4               Seth Lipkin   1598        Ben Dweck   TWL06           430.0   \n",
       "...                     ...    ...              ...     ...             ...   \n",
       "29988                   jvc    564            Terry   CSW19           502.0   \n",
       "29989                 Terry  20411              jvc   CSW19           364.0   \n",
       "29990                  Matt  20411              jvc   CSW19           526.0   \n",
       "29991               jackson  17589             joey   NSW18           348.0   \n",
       "29992                   ken  17589             joey   NSW18           436.0   \n",
       "\n",
       "       p2_final_score  \n",
       "0               424.0  \n",
       "1               366.0  \n",
       "2               333.0  \n",
       "3               351.0  \n",
       "4               434.0  \n",
       "...               ...  \n",
       "29988           328.0  \n",
       "29989           485.0  \n",
       "29990           343.0  \n",
       "29991           378.0  \n",
       "29992           392.0  \n",
       "\n",
       "[29993 rows x 11 columns]"
      ]
     },
     "execution_count": 70,
     "metadata": {},
     "output_type": "execute_result"
    }
   ],
   "source": [
    "p1_scores  #[p1_scores.letters_cleaned.apply(lambda x:\"??\" in x)]"
   ]
  },
  {
   "cell_type": "code",
   "execution_count": 109,
   "metadata": {},
   "outputs": [
    {
     "data": {
      "text/plain": [
       "<matplotlib.legend.Legend at 0x7f841ec9d950>"
      ]
     },
     "execution_count": 109,
     "metadata": {},
     "output_type": "execute_result"
    },
    {
     "data": {
      "image/png": "[encoded data removed]",
      "text/plain": [
       "<Figure size 2160x720 with 1 Axes>"
      ]
     },
     "metadata": {
      "needs_background": "light"
     },
     "output_type": "display_data"
    }
   ],
   "source": [
    "fig, ax = plt.subplots(figsize=(30,10))\n",
    "ax.hist([p1_scores.p1_final_score], bins=50, alpha=0.5, color=\"red\", label=\"player one\")\n",
    "ax.hist(p2_scores.p2_final_score, bins=50, alpha=0.5, color=\"blue\", label=\"player two\")\n",
    "ax.legend()"
   ]
  },
  {
   "cell_type": "code",
   "execution_count": 82,
   "metadata": {},
   "outputs": [
    {
     "data": {
      "text/plain": [
       "(array([2.0600e+02, 3.7140e+03, 1.3028e+04, 1.0426e+04, 2.2360e+03,\n",
       "        2.9500e+02, 6.2000e+01, 1.6000e+01, 8.0000e+00, 2.0000e+00]),\n",
       " array([174., 255., 336., 417., 498., 579., 660., 741., 822., 903., 984.]),\n",
       " <a list of 10 Patch objects>)"
      ]
     },
     "execution_count": 82,
     "metadata": {},
     "output_type": "execute_result"
    },
    {
     "data": {
      "image/png": "[encoded data removed]",
      "text/plain": [
       "<Figure size 432x288 with 1 Axes>"
      ]
     },
     "metadata": {
      "needs_background": "light"
     },
     "output_type": "display_data"
    }
   ],
   "source": []
  },
  {
   "cell_type": "code",
   "execution_count": 8,
   "metadata": {},
   "outputs": [
    {
     "data": {
      "text/plain": [
       "425.07684676939357"
      ]
     },
     "execution_count": 8,
     "metadata": {},
     "output_type": "execute_result"
    }
   ],
   "source": [
    "np.mean(p1_scores[p1_scores.letters_cleaned.apply(lambda x: \"J\" in x)][\"p1_final_score\"])"
   ]
  },
  {
   "cell_type": "code",
   "execution_count": 17,
   "metadata": {},
   "outputs": [],
   "source": [
    "p1_scores[\"letter_count\"] = p1_scores.letters_cleaned.apply(len)\n",
    "p2_scores[\"letter_count\"] = p2_scores.letters_cleaned.apply(len)"
   ]
  },
  {
   "cell_type": "code",
   "execution_count": 16,
   "metadata": {},
   "outputs": [
    {
     "data": {
      "text/plain": [
       "51.52386934673367"
      ]
     },
     "execution_count": 16,
     "metadata": {},
     "output_type": "execute_result"
    }
   ],
   "source": [
    "np.mean(p1_scores[p1_scores.letters_cleaned.apply(lambda x: \"UUUU\" in x)][\"letter_count\"])"
   ]
  },
  {
   "cell_type": "code",
   "execution_count": 20,
   "metadata": {},
   "outputs": [
    {
     "data": {
      "text/plain": [
       "<matplotlib.collections.PathCollection at 0x7fd2cc4c7690>"
      ]
     },
     "execution_count": 20,
     "metadata": {},
     "output_type": "execute_result"
    },
    {
     "data": {
      "image/png": "[encoded data removed]",
      "text/plain": [
       "<Figure size 432x288 with 1 Axes>"
      ]
     },
     "metadata": {},
     "output_type": "display_data"
    }
   ],
   "source": [
    "fig, ax = plt.subplots()\n",
    "ax.scatter(p1_scores.letter_count, p1_scores.p1_final_score)"
   ]
  },
  {
   "cell_type": "code",
   "execution_count": 22,
   "metadata": {},
   "outputs": [
    {
     "data": {
      "text/plain": [
       "(array([2.000e+00, 0.000e+00, 0.000e+00, 1.000e+00, 0.000e+00, 2.000e+00,\n",
       "        0.000e+00, 2.000e+00, 0.000e+00, 3.000e+00, 0.000e+00, 4.000e+00,\n",
       "        0.000e+00, 8.000e+00, 0.000e+00, 2.400e+01, 2.000e+01, 0.000e+00,\n",
       "        5.000e+01, 0.000e+00, 8.900e+01, 0.000e+00, 1.380e+02, 0.000e+00,\n",
       "        2.360e+02, 0.000e+00, 3.140e+02, 0.000e+00, 4.370e+02, 0.000e+00,\n",
       "        6.570e+02, 0.000e+00, 9.240e+02, 1.179e+03, 0.000e+00, 1.499e+03,\n",
       "        0.000e+00, 1.813e+03, 0.000e+00, 2.177e+03, 0.000e+00, 2.308e+03,\n",
       "        0.000e+00, 2.580e+03, 0.000e+00, 2.626e+03, 0.000e+00, 2.439e+03,\n",
       "        0.000e+00, 2.279e+03, 2.059e+03, 0.000e+00, 1.687e+03, 0.000e+00,\n",
       "        1.278e+03, 0.000e+00, 9.820e+02, 0.000e+00, 7.120e+02, 0.000e+00,\n",
       "        4.900e+02, 0.000e+00, 3.690e+02, 0.000e+00, 2.390e+02, 0.000e+00,\n",
       "        1.420e+02, 8.400e+01, 0.000e+00, 5.000e+01, 0.000e+00, 4.100e+01,\n",
       "        0.000e+00, 1.400e+01, 0.000e+00, 6.000e+00, 0.000e+00, 6.000e+00,\n",
       "        0.000e+00, 2.000e+00, 0.000e+00, 1.000e+00, 0.000e+00, 1.000e+00,\n",
       "        1.000e+00, 0.000e+00, 0.000e+00, 0.000e+00, 0.000e+00, 0.000e+00,\n",
       "        0.000e+00, 0.000e+00, 0.000e+00, 0.000e+00, 0.000e+00, 0.000e+00,\n",
       "        0.000e+00, 0.000e+00, 0.000e+00, 1.000e+00]),\n",
       " array([26.  , 26.53, 27.06, 27.59, 28.12, 28.65, 29.18, 29.71, 30.24,\n",
       "        30.77, 31.3 , 31.83, 32.36, 32.89, 33.42, 33.95, 34.48, 35.01,\n",
       "        35.54, 36.07, 36.6 , 37.13, 37.66, 38.19, 38.72, 39.25, 39.78,\n",
       "        40.31, 40.84, 41.37, 41.9 , 42.43, 42.96, 43.49, 44.02, 44.55,\n",
       "        45.08, 45.61, 46.14, 46.67, 47.2 , 47.73, 48.26, 48.79, 49.32,\n",
       "        49.85, 50.38, 50.91, 51.44, 51.97, 52.5 , 53.03, 53.56, 54.09,\n",
       "        54.62, 55.15, 55.68, 56.21, 56.74, 57.27, 57.8 , 58.33, 58.86,\n",
       "        59.39, 59.92, 60.45, 60.98, 61.51, 62.04, 62.57, 63.1 , 63.63,\n",
       "        64.16, 64.69, 65.22, 65.75, 66.28, 66.81, 67.34, 67.87, 68.4 ,\n",
       "        68.93, 69.46, 69.99, 70.52, 71.05, 71.58, 72.11, 72.64, 73.17,\n",
       "        73.7 , 74.23, 74.76, 75.29, 75.82, 76.35, 76.88, 77.41, 77.94,\n",
       "        78.47, 79.  ]),\n",
       " <a list of 100 Patch objects>)"
      ]
     },
     "execution_count": 22,
     "metadata": {},
     "output_type": "execute_result"
    },
    {
     "data": {
      "image/png": "[encoded data removed]",
      "text/plain": [
       "<Figure size 432x288 with 1 Axes>"
      ]
     },
     "metadata": {},
     "output_type": "display_data"
    }
   ],
   "source": [
    "fig, ax = plt.subplots()\n",
    "ax.hist(p1_scores.letter_count, bins=100)"
   ]
  },
  {
   "cell_type": "code",
   "execution_count": 87,
   "metadata": {},
   "outputs": [],
   "source": [
    "\n",
    "cur = conn.cursor()\n",
    "\n",
    "sql = \"\"\"SELECT movenum, turn_score, move, rack, LAG (move, 1)  OVER (PARTITION BY gamenum ORDER BY movenum) as prev_move \n",
    "from turn where gamenum in (SELECT gamenum from fullP2games) and is_player2 = ' 1' ORDER BY movenum\"\"\"\n",
    "\n",
    "df_95 = pd.read_sql(sql ,con=conn)"
   ]
  },
  {
   "cell_type": "code",
   "execution_count": 38,
   "metadata": {},
   "outputs": [
    {
     "data": {
      "text/html": [
       "<div>\n",
       "<style scoped>\n",
       "    .dataframe tbody tr th:only-of-type {\n",
       "        vertical-align: middle;\n",
       "    }\n",
       "\n",
       "    .dataframe tbody tr th {\n",
       "        vertical-align: top;\n",
       "    }\n",
       "\n",
       "    .dataframe thead th {\n",
       "        text-align: right;\n",
       "    }\n",
       "</style>\n",
       "<table border=\"1\" class=\"dataframe\">\n",
       "  <thead>\n",
       "    <tr style=\"text-align: right;\">\n",
       "      <th></th>\n",
       "      <th>movenum</th>\n",
       "      <th>move</th>\n",
       "      <th>rack</th>\n",
       "      <th>prev_move</th>\n",
       "    </tr>\n",
       "  </thead>\n",
       "  <tbody>\n",
       "    <tr>\n",
       "      <td>0</td>\n",
       "      <td>2</td>\n",
       "      <td>.AWER</td>\n",
       "      <td>AABEORW</td>\n",
       "      <td>None</td>\n",
       "    </tr>\n",
       "    <tr>\n",
       "      <td>1</td>\n",
       "      <td>4</td>\n",
       "      <td>AE.OBIA</td>\n",
       "      <td>AABEEIO</td>\n",
       "      <td>.AWER</td>\n",
       "    </tr>\n",
       "    <tr>\n",
       "      <td>2</td>\n",
       "      <td>6</td>\n",
       "      <td>YEW</td>\n",
       "      <td>CEIIUWY</td>\n",
       "      <td>AE.OBIA</td>\n",
       "    </tr>\n",
       "    <tr>\n",
       "      <td>3</td>\n",
       "      <td>8</td>\n",
       "      <td>jURI.TIC</td>\n",
       "      <td>?CIIRTU</td>\n",
       "      <td>YEW</td>\n",
       "    </tr>\n",
       "    <tr>\n",
       "      <td>4</td>\n",
       "      <td>10</td>\n",
       "      <td>MITRED</td>\n",
       "      <td>DEIMRTT</td>\n",
       "      <td>jURI.TIC</td>\n",
       "    </tr>\n",
       "    <tr>\n",
       "      <td>5</td>\n",
       "      <td>12</td>\n",
       "      <td>QI</td>\n",
       "      <td>AEIIQTZ</td>\n",
       "      <td>MITRED</td>\n",
       "    </tr>\n",
       "    <tr>\n",
       "      <td>6</td>\n",
       "      <td>14</td>\n",
       "      <td>.ANITIZE</td>\n",
       "      <td>AEIINTZ</td>\n",
       "      <td>QI</td>\n",
       "    </tr>\n",
       "    <tr>\n",
       "      <td>7</td>\n",
       "      <td>16</td>\n",
       "      <td>.R...D</td>\n",
       "      <td>DDIIMNR</td>\n",
       "      <td>.ANITIZE</td>\n",
       "    </tr>\n",
       "    <tr>\n",
       "      <td>8</td>\n",
       "      <td>18</td>\n",
       "      <td>INDAMIN.</td>\n",
       "      <td>ADIIMNN</td>\n",
       "      <td>.R...D</td>\n",
       "    </tr>\n",
       "    <tr>\n",
       "      <td>9</td>\n",
       "      <td>20</td>\n",
       "      <td>FOP</td>\n",
       "      <td>EEFGLOP</td>\n",
       "      <td>INDAMIN.</td>\n",
       "    </tr>\n",
       "    <tr>\n",
       "      <td>10</td>\n",
       "      <td>22</td>\n",
       "      <td>OGLE.</td>\n",
       "      <td>EEEGKLO</td>\n",
       "      <td>FOP</td>\n",
       "    </tr>\n",
       "    <tr>\n",
       "      <td>11</td>\n",
       "      <td>24</td>\n",
       "      <td>EEK</td>\n",
       "      <td>EEK</td>\n",
       "      <td>OGLE.</td>\n",
       "    </tr>\n",
       "  </tbody>\n",
       "</table>\n",
       "</div>"
      ],
      "text/plain": [
       "    movenum      move     rack prev_move\n",
       "0         2     .AWER  AABEORW      None\n",
       "1         4   AE.OBIA  AABEEIO     .AWER\n",
       "2         6       YEW  CEIIUWY   AE.OBIA\n",
       "3         8  jURI.TIC  ?CIIRTU       YEW\n",
       "4        10    MITRED  DEIMRTT  jURI.TIC\n",
       "5        12        QI  AEIIQTZ    MITRED\n",
       "6        14  .ANITIZE  AEIINTZ        QI\n",
       "7        16    .R...D  DDIIMNR  .ANITIZE\n",
       "8        18  INDAMIN.  ADIIMNN    .R...D\n",
       "9        20       FOP  EEFGLOP  INDAMIN.\n",
       "10       22     OGLE.  EEEGKLO       FOP\n",
       "11       24       EEK      EEK     OGLE."
      ]
     },
     "execution_count": 38,
     "metadata": {},
     "output_type": "execute_result"
    }
   ],
   "source": [
    "df_95"
   ]
  },
  {
   "cell_type": "code",
   "execution_count": 83,
   "metadata": {},
   "outputs": [
    {
     "name": "stdout",
     "output_type": "stream",
     "text": [
      "AABEORW\n",
      "AABEORW AWER\n",
      "leave: ABO  draw: AABEORW\n",
      "AEEI\n",
      "AABEEIO AEOBIA\n",
      "leave: E  draw: AEEI\n",
      "CIIUWY\n",
      "CEIIUWY YEW\n",
      "leave: CIIU  draw: CIIUWY\n",
      "?RT\n",
      "?CIIRTU jURITIC\n",
      "leave: ?  draw: ?RT\n",
      "DEIMRTT\n",
      "DEIMRTT MITRED\n",
      "leave: T  draw: DEIMRTT\n",
      "AEIIQZ\n",
      "AEIIQTZ QI\n",
      "leave: AEITZ  draw: AEIIQZ\n",
      "IN\n",
      "AEIINTZ ANITIZE\n",
      "leave:   draw: IN\n",
      "DDIIMNR\n",
      "DDIIMNR RD\n",
      "leave: DIIMN  draw: DDIIMNR\n",
      "AN\n",
      "ADIIMNN INDAMIN\n",
      "leave:   draw: AN\n",
      "EEFGLOP\n",
      "EEFGLOP FOP\n",
      "leave: EEGL  draw: EEFGLOP\n",
      "EKO\n",
      "EEEGKLO OGLE\n",
      "leave: EEK  draw: EKO\n",
      "\n",
      "EEK EEK\n",
      "leave:   draw: \n"
     ]
    }
   ],
   "source": [
    "all_draws = \"\"\n",
    "leave = \"\"\n",
    "for idx, r in df_95.iloc[0:,:].iterrows():\n",
    "    draw = r[\"rack\"]\n",
    "    for l in leave:\n",
    "        draw = draw.replace(l, '', 1)\n",
    "    print (draw)\n",
    "    print( r[\"rack\"], r[\"move\"].replace('.',''))\n",
    "    leave = r[\"rack\"]\n",
    "    for l in r[\"move\"]:\n",
    "        leave = leave.replace(l, '',1)\n",
    "    print (\"leave: \" + leave + \"  draw: \" + draw)\n",
    "    all_draws += draw"
   ]
  },
  {
   "cell_type": "code",
   "execution_count": 84,
   "metadata": {},
   "outputs": [
    {
     "data": {
      "text/plain": [
       "'AABEORWAEEICIIUWY?RTDEIMRTTAEIIQZINDDIIMNRANEEFGLOPEKO'"
      ]
     },
     "execution_count": 84,
     "metadata": {},
     "output_type": "execute_result"
    }
   ],
   "source": []
  },
  {
   "cell_type": "code",
   "execution_count": 85,
   "metadata": {},
   "outputs": [],
   "source": [
    "conn.close()"
   ]
  },
  {
   "cell_type": "code",
   "execution_count": 249,
   "metadata": {},
   "outputs": [
    {
     "data": {
      "text/plain": [
       "0         [D, D, E, L, O, O, V]\n",
       "1         [A, A, D, E, M, N, U]\n",
       "2         [?, A, E, E, O, O, U]\n",
       "3         [D, E, F, S, T, U, Y]\n",
       "4         [C, E, G, I, I, N, T]\n",
       "                  ...          \n",
       "179765    [I, I, L, R, T, U, V]\n",
       "179766    [I, L, P, R, R, T, V]\n",
       "179767    [I, L, P, R, R, T, V]\n",
       "179768    [I, L, P, R, R, T, V]\n",
       "179769    [I, L, P, R, R, T, V]\n",
       "Name: rack, Length: 179770, dtype: object"
      ]
     },
     "execution_count": 249,
     "metadata": {},
     "output_type": "execute_result"
    }
   ],
   "source": [
    "\n",
    "cur = conn.cursor()\n",
    "\n",
    "sql = \"\"\"SELECT gamenum, turn_id, movenum, turn_score, move, rack, LAG (move, 1)  OVER (PARTITION BY gamenum ORDER BY movenum) as prev_move \n",
    "from turn where gamenum in (SELECT gamenum from fullP2games) and NOT is_challenge and\n",
    "gamenum not in (select game_num from bad_games) and\n",
    "is_player2 = ' 1' and length(rack) = 7 ORDER BY movenum\"\"\"\n",
    "\n",
    "\n",
    "df_good_p2 = pd.read_sql(sql ,con=conn)\n",
    "df_good_p2 = df_good_p2[df_good_p2.rack.apply(len) <= 7]\n",
    "df_good_p2.rack = df_good_p2.rack.apply(sorted)\n",
    "df_good_p2.rack"
   ]
  },
  {
   "cell_type": "code",
   "execution_count": 256,
   "metadata": {},
   "outputs": [
    {
     "name": "stdout",
     "output_type": "stream",
     "text": [
      "0 A's: 32.937307572653054, 93217\n",
      "290\n",
      "1 A's: 37.150619512834325, 68683\n",
      "331\n",
      "2 A's: 30.668119280333688, 16063\n",
      "212\n",
      "3 A's: 22.240117994100295, 1695\n",
      "102\n",
      "4 A's: 15.254716981132075, 106\n",
      "49\n",
      "5 A's: 2.8, 5\n",
      "14\n",
      " \n",
      "0 B's: 34.47171703158107, 158576\n",
      "331\n",
      "1 B's: 32.54682574324652, 20619\n",
      "230\n",
      "2 B's: 28.544347826086955, 575\n",
      "104\n",
      " \n",
      "0 C's: 34.22553152966737, 154648\n",
      "320\n",
      "1 C's: 34.444070854518614, 24388\n",
      "331\n",
      "2 C's: 28.54359673024523, 734\n",
      "128\n",
      " \n",
      "0 D's: 33.982756832058804, 134952\n",
      "320\n",
      "1 D's: 35.400024357569116, 41055\n",
      "331\n",
      "2 D's: 30.658429434376718, 3642\n",
      "185\n",
      "3 D's: 23.700854700854702, 117\n",
      "101\n",
      "4 D's: 15.75, 4\n",
      "32\n",
      " \n",
      "0 E's: 30.88782140107775, 64950\n",
      "320\n",
      "1 E's: 37.36483754053538, 78635\n",
      "331\n",
      "2 E's: 34.84294976750278, 30538\n",
      "284\n",
      "3 E's: 26.55173084402956, 5142\n",
      "203\n",
      "4 E's: 18.002061855670103, 485\n",
      "105\n",
      "5 E's: 12.05, 20\n",
      "32\n",
      " \n",
      "0 F's: 34.465527272272304, 159851\n",
      "331\n",
      "1 F's: 32.345, 19400\n",
      "194\n",
      "2 F's: 32.834296724470136, 519\n",
      "221\n",
      " \n",
      "0 G's: 34.6969047668102, 145611\n",
      "331\n",
      "1 G's: 32.632805450981614, 32141\n",
      "212\n",
      "2 G's: 26.215113350125943, 1985\n",
      "149\n",
      "3 G's: 22.545454545454547, 33\n",
      "80\n",
      " \n",
      "0 H's: 34.116845357077956, 159587\n",
      "331\n",
      "1 H's: 35.25903522594419, 19673\n",
      "320\n",
      "2 H's: 30.641176470588235, 510\n",
      "107\n",
      " \n",
      "0 I's: 33.49325147623957, 85352\n",
      "331\n",
      "1 I's: 36.947994422114675, 73146\n",
      "320\n",
      "2 I's: 29.119892160490565, 18917\n",
      "212\n",
      "3 I's: 18.207394048692517, 2218\n",
      "122\n",
      "4 I's: 10.393700787401574, 127\n",
      "52\n",
      "5 I's: 0.0, 6\n",
      "0\n",
      "6 I's: 4.0, 1\n",
      "4\n",
      " \n",
      "0 J's: 34.319380848684595, 169910\n",
      "320\n",
      "1 J's: 32.72586206896552, 9860\n",
      "331\n",
      " \n",
      "0 K's: 34.26719405306065, 169768\n",
      "331\n",
      "1 K's: 33.634273145370926, 10002\n",
      "239\n",
      " \n",
      "0 L's: 34.29014045822493, 131071\n",
      "331\n",
      "1 L's: 34.674724237863096, 44513\n",
      "230\n",
      "2 L's: 28.01702442635085, 4053\n",
      "167\n",
      "3 L's: 18.127819548872182, 133\n",
      "86\n",
      " \n",
      "0 M's: 34.18110530482977, 157875\n",
      "331\n",
      "1 M's: 34.759575168006016, 21279\n",
      "230\n",
      "2 M's: 29.045454545454547, 616\n",
      "106\n",
      " \n",
      "0 N's: 33.63461284666579, 106082\n",
      "331\n",
      "1 N's: 36.21544508449763, 62842\n",
      "230\n",
      "2 N's: 29.283515833086714, 10137\n",
      "194\n",
      "3 N's: 18.831149927219798, 687\n",
      "108\n",
      "4 N's: 10.045454545454545, 22\n",
      "28\n",
      " \n",
      "0 O's: 34.59658288619034, 106230\n",
      "257\n",
      "1 O's: 34.91373955790278, 60213\n",
      "320\n",
      "2 O's: 29.014804399966916, 12091\n",
      "331\n",
      "3 O's: 20.891638225255974, 1172\n",
      "290\n",
      "4 O's: 17.476190476190474, 63\n",
      "82\n",
      "5 O's: 23.0, 1\n",
      "23\n",
      " \n",
      "0 P's: 34.312765227555715, 157412\n",
      "331\n",
      "1 P's: 33.797062074046785, 21716\n",
      "257\n",
      "2 P's: 29.135514018691588, 642\n",
      "106\n",
      " \n",
      "0 Q's: 34.55369607165829, 167908\n",
      "331\n",
      "1 Q's: 29.67804754678806, 11862\n",
      "221\n",
      " \n",
      "0 R's: 33.17082835636957, 105486\n",
      "331\n",
      "1 R's: 36.766578333017854, 63396\n",
      "284\n",
      "2 R's: 30.45626477541371, 10152\n",
      "181\n",
      "3 R's: 20.52899575671853, 707\n",
      "88\n",
      "4 R's: 9.464285714285714, 28\n",
      "43\n",
      "5 R's: 0.0, 1\n",
      "0\n",
      " \n",
      "0 S's: 32.343934979555165, 119101\n",
      "331\n",
      "1 S's: 38.028406593406594, 54600\n",
      "320\n",
      "2 S's: 37.30199965817809, 5851\n",
      "167\n",
      "3 S's: 32.49082568807339, 218\n",
      "104\n",
      " \n",
      "0 T's: 33.51167679981817, 105594\n",
      "331\n",
      "1 T's: 36.09885943622202, 63039\n",
      "320\n",
      "2 T's: 31.120860132475762, 10417\n",
      "176\n",
      "3 T's: 21.544540229885058, 696\n",
      "85\n",
      "4 T's: 18.083333333333332, 24\n",
      "52\n",
      " \n",
      "0 U's: 35.287253339600056, 136169\n",
      "331\n",
      "1 U's: 31.838084521130284, 39990\n",
      "212\n",
      "2 U's: 21.240687679083095, 3490\n",
      "131\n",
      "3 U's: 12.974358974358974, 117\n",
      "72\n",
      "4 U's: 0.0, 4\n",
      "0\n",
      " \n",
      "0 V's: 34.80499509285341, 156914\n",
      "331\n",
      "1 V's: 30.516790289952798, 22245\n",
      "203\n",
      "2 V's: 22.333878887070377, 611\n",
      "108\n",
      " \n",
      "0 W's: 34.62772816841685, 160364\n",
      "331\n",
      "1 W's: 31.092586717428087, 18912\n",
      "203\n",
      "2 W's: 25.94939271255061, 494\n",
      "82\n",
      " \n",
      "0 X's: 34.078467540427134, 169688\n",
      "331\n",
      "1 X's: 36.815711168418964, 10082\n",
      "284\n",
      " \n",
      "0 Y's: 34.38461252301797, 161287\n",
      "331\n",
      "1 Y's: 33.00575985821887, 18056\n",
      "203\n",
      "2 Y's: 28.430913348946135, 427\n",
      "80\n",
      " \n",
      "0 Z's: 33.983288438363935, 169284\n",
      "331\n",
      "1 Z's: 38.246805264161736, 10486\n",
      "320\n",
      " \n",
      "0 ?'s: 31.93912766254209, 150561\n",
      "331\n",
      "1 ?'s: 45.6272614622057, 28245\n",
      "236\n",
      "2 ?'s: 58.45850622406639, 964\n",
      "203\n",
      " \n"
     ]
    },
    {
     "data": {
      "image/png": "[encoded data removed]",
      "text/plain": [
       "<Figure size 432x288 with 1 Axes>"
      ]
     },
     "metadata": {},
     "output_type": "display_data"
    }
   ],
   "source": [
    "fig, ax = plt.subplots()\n",
    "letters = ['A', 'B', 'C', 'D', 'E', 'F', 'G', 'H', 'I','J','K','L','M','N','O','P','Q','R','S','T','U','V','W','X','Y','Z','?']\n",
    "for l in letters:\n",
    "    for i in range(0, 7):\n",
    "        tdf = df_good_p2[df_good_p2.rack.apply(lambda x:x.count(l)==i)]\n",
    "        if (tdf.shape[0]):\n",
    "            print(\"{:} {:}'s: {:}, {:}\".format(i, l, np.mean(tdf[\"turn_score\"]), tdf.shape[0]))\n",
    "            print(np.max(tdf.turn_score))\n",
    "#            print(tdf[\"gamenum\"], print(tdf[\"rack\"]))\n",
    "#        ax.hist(tdf[\"turn_score\"], bins=100)\n",
    "        \n",
    "    print(\" \")\n"
   ]
  },
  {
   "cell_type": "code",
   "execution_count": 159,
   "metadata": {},
   "outputs": [
    {
     "ename": "TypeError",
     "evalue": "count() takes exactly one argument (2 given)",
     "output_type": "error",
     "traceback": [
      "\u001b[0;31m---------------------------------------------------------------------------\u001b[0m",
      "\u001b[0;31mTypeError\u001b[0m                                 Traceback (most recent call last)",
      "\u001b[0;32m<ipython-input-159-5804f72daa26>\u001b[0m in \u001b[0;36m<module>\u001b[0;34m\u001b[0m\n\u001b[0;32m----> 1\u001b[0;31m \u001b[0mdf_good_p2\u001b[0m\u001b[0;34m.\u001b[0m\u001b[0mrack\u001b[0m\u001b[0;34m[\u001b[0m\u001b[0;36m1\u001b[0m\u001b[0;34m]\u001b[0m\u001b[0;34m.\u001b[0m\u001b[0mcount\u001b[0m\u001b[0;34m(\u001b[0m\u001b[0;34m'A'\u001b[0m\u001b[0;34m,\u001b[0m \u001b[0;34m'E'\u001b[0m\u001b[0;34m)\u001b[0m\u001b[0;34m\u001b[0m\u001b[0;34m\u001b[0m\u001b[0m\n\u001b[0m",
      "\u001b[0;31mTypeError\u001b[0m: count() takes exactly one argument (2 given)"
     ]
    }
   ],
   "source": [
    "df_good_p2.rack[1].count"
   ]
  },
  {
   "cell_type": "code",
   "execution_count": 122,
   "metadata": {},
   "outputs": [
    {
     "data": {
      "text/html": [
       "<div>\n",
       "<style scoped>\n",
       "    .dataframe tbody tr th:only-of-type {\n",
       "        vertical-align: middle;\n",
       "    }\n",
       "\n",
       "    .dataframe tbody tr th {\n",
       "        vertical-align: top;\n",
       "    }\n",
       "\n",
       "    .dataframe thead th {\n",
       "        text-align: right;\n",
       "    }\n",
       "</style>\n",
       "<table border=\"1\" class=\"dataframe\">\n",
       "  <thead>\n",
       "    <tr style=\"text-align: right;\">\n",
       "      <th></th>\n",
       "      <th>movenum</th>\n",
       "      <th>turn_score</th>\n",
       "      <th>move</th>\n",
       "      <th>rack</th>\n",
       "      <th>prev_move</th>\n",
       "    </tr>\n",
       "  </thead>\n",
       "  <tbody>\n",
       "  </tbody>\n",
       "</table>\n",
       "</div>"
      ],
      "text/plain": [
       "Empty DataFrame\n",
       "Columns: [movenum, turn_score, move, rack, prev_move]\n",
       "Index: []"
      ]
     },
     "execution_count": 122,
     "metadata": {},
     "output_type": "execute_result"
    }
   ],
   "source": [
    "df_good_p2[df_good_p2.rack.apply(lambda x: x.count('E')==7)]"
   ]
  },
  {
   "cell_type": "code",
   "execution_count": 257,
   "metadata": {},
   "outputs": [],
   "source": [
    "sql = \"\"\"SELECT movenum, turn_score from turn where gamenum not in (SELECT * from bad_games) and NOT is_challenge\"\"\"\n",
    "\n",
    "\n",
    "df_turn_compare = pd.read_sql(sql ,con=conn)"
   ]
  },
  {
   "cell_type": "code",
   "execution_count": 258,
   "metadata": {},
   "outputs": [
    {
     "data": {
      "text/plain": [
       "<matplotlib.collections.PathCollection at 0x7fd28ba463d0>"
      ]
     },
     "execution_count": 258,
     "metadata": {},
     "output_type": "execute_result"
    },
    {
     "data": {
      "image/png": "[encoded data removed]",
      "text/plain": [
       "<Figure size 432x288 with 1 Axes>"
      ]
     },
     "metadata": {},
     "output_type": "display_data"
    }
   ],
   "source": [
    "fig, ax = plt.subplots()\n",
    "ax.scatter(df_turn_compare.movenum, df_turn_compare.turn_score)"
   ]
  },
  {
   "cell_type": "code",
   "execution_count": null,
   "metadata": {},
   "outputs": [],
   "source": []
  }
 ],
 "metadata": {
  "kernelspec": {
   "display_name": "Python 3",
   "language": "python",
   "name": "python3"
  },
  "language_info": {
   "codemirror_mode": {
    "name": "ipython",
    "version": 3
   },
   "file_extension": ".py",
   "mimetype": "text/x-python",
   "name": "python",
   "nbconvert_exporter": "python",
   "pygments_lexer": "ipython3",
   "version": "3.7.4"
  }
 },
 "nbformat": 4,
 "nbformat_minor": 2
}
