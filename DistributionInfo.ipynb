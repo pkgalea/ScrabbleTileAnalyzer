{
 "cells": [
  {
   "cell_type": "code",
   "execution_count": 3,
   "metadata": {},
   "outputs": [],
   "source": [
    "import psycopg2 as pg2\n",
    "import pandas as pd\n",
    "\n",
    "import matplotlib.pyplot as plt\n",
    "import numpy as np\n",
    "from scipy import stats\n",
    "\n",
    "%matplotlib inline\n",
    "plt.style.use('ggplot')"
   ]
  },
  {
   "cell_type": "code",
   "execution_count": 50,
   "metadata": {},
   "outputs": [
    {
     "data": {
      "text/plain": [
       "0         [A, E, F, J, M, P, V]\n",
       "1         [C, E, G, I, I, N, T]\n",
       "2         [?, D, E, I, T, T, X]\n",
       "3         [A, D, L, N, T, W, X]\n",
       "4         [D, E, F, S, T, U, Y]\n",
       "                  ...          \n",
       "179254    [C, D, E, E, I, N, S]\n",
       "179255    [?, I, O, R, R, U, V]\n",
       "179256    [E, K, O, O, T, V, X]\n",
       "179257    [A, B, E, H, O, T, X]\n",
       "179258    [A, B, E, H, I, T, X]\n",
       "Name: rack, Length: 179259, dtype: object"
      ]
     },
     "execution_count": 50,
     "metadata": {},
     "output_type": "execute_result"
    }
   ],
   "source": [
    "conn = pg2.connect(user='postgres',  dbname='scrabble', host='localhost', port='5432', password='myPassword')\n",
    "cur = conn.cursor()\n",
    "\n",
    "sql = \"\"\"SELECT gamenum, turn_id, movenum, turn_score, rack\n",
    "from turn where gamenum in (SELECT gamenum from fullP2games) and NOT is_challenge and\n",
    "gamenum not in (select game_num from bad_games) and\n",
    "is_player2 = ' 1' and length(rack) = 7 ORDER BY movenum\"\"\"\n",
    "\n",
    "\n",
    "df_good_p2 = pd.read_sql(sql ,con=conn)\n",
    "df_good_p2 = df_good_p2[df_good_p2.rack.apply(len) <= 7]\n",
    "df_good_p2.rack = df_good_p2.rack.apply(sorted)\n",
    "df_good_p2.rack"
   ]
  },
  {
   "cell_type": "code",
   "execution_count": 51,
   "metadata": {},
   "outputs": [],
   "source": [
    "class TileCondition:\n",
    "    def __init__(self, letter, count, compare):\n",
    "        self._letter = letter\n",
    "        self._count = count\n",
    "        self._compare = compare\n",
    "    def get_lambda(self):\n",
    "        if (self._compare==\"=\"):\n",
    "            return lambda x: x.count(self._letter)== self._count\n",
    "        if (self._compare==\"<\"):\n",
    "            return lambda x: x.count(self._letter)== self._count\n",
    "    def get_label(self):\n",
    "        if (self._compare==\"=\"):\n",
    "            return \"exactly {:} {:}'s\".format(self._count, self._letter)\n",
    "            "
   ]
  },
  {
   "cell_type": "code",
   "execution_count": 52,
   "metadata": {},
   "outputs": [],
   "source": [
    "\n",
    "\n",
    "\n",
    "\n",
    "def evaluate(conditions1, conditions2):\n",
    "    fig, ax = plt.subplots()\n",
    "    tdf = df_good_p2[df_good_p2.rack.apply(conditions1[0].get_lambda())]\n",
    "    tdf2 = df_good_p2[df_good_p2.rack.apply(conditions2[0].get_lambda())]\n",
    "#        print(min(tdf[\"turn_score\"]), max(tdf[\"turn_score\"]))\n",
    "    if (tdf.shape[0]):\n",
    "        print(\"mean score with {:}: {:}, ({:})\".format(conditions1[0].get_label(), round(np.mean(tdf[\"turn_score\"]), 2), \n",
    "                                                   tdf.shape[0]))\n",
    "        print(\"mean score with {:}: {:}, ({:})\".format(conditions2[0].get_label(), round(np.mean(tdf2[\"turn_score\"]), 2), \n",
    "                                                   tdf2.shape[0]))\n",
    "        print(\"p-value: {:}\".format(stats.ttest_ind(tdf.turn_score, tdf2.turn_score).pvalue))\n",
    "#            print(tdf[\"gamenum\"], print(tdf[\"rack\"]))\n",
    "    ax.hist(tdf[\"turn_score\"], bins=100, density=True, alpha = .5, color='black', label=conditions1[0].get_label())\n",
    "    ax.hist(tdf2[\"turn_score\"], bins=100, density=True, alpha=.5, label=conditions2[0].get_label())\n",
    "    ax.legend()\n",
    "    ax.set_xlim(left=0, right=125)\n",
    "    print(\" \")  \n"
   ]
  },
  {
   "cell_type": "code",
   "execution_count": 46,
   "metadata": {},
   "outputs": [
    {
     "name": "stdout",
     "output_type": "stream",
     "text": [
      "mean score with exactly 1 ?'s: 45.69, (28149)\n",
      "mean score with exactly 2 ?'s: 58.43, (960)\n",
      "p-value: 4.3303480259789185e-38\n",
      " \n"
     ]
    },
    {
     "data": {
      "image/png": "[encoded data removed]",
      "text/plain": [
       "<Figure size 432x288 with 1 Axes>"
      ]
     },
     "metadata": {},
     "output_type": "display_data"
    }
   ],
   "source": [
    "evaluate([TileCondition(\"?\", 1, \"=\")], [TileCondition(\"?\", 2, \"=\")])"
   ]
  },
  {
   "cell_type": "code",
   "execution_count": 6,
   "metadata": {},
   "outputs": [
    {
     "name": "stdout",
     "output_type": "stream",
     "text": [
      "?\n",
      "mean score with 0 ?'s: 34.13, (178299)\n",
      "mean score with at least 1 ?'s: 58.43, (960)\n",
      "p-value: 1.639526545001652e-232\n",
      " \n"
     ]
    },
    {
     "data": {
      "image/png": "[encoded data removed]",
      "text/plain": [
       "<Figure size 432x288 with 1 Axes>"
      ]
     },
     "metadata": {},
     "output_type": "display_data"
    }
   ],
   "source": [
    "fig, ax = plt.subplots()\n",
    "letters = ['?', 'B', 'C', 'D', 'E', 'F', 'G', 'H', 'I','J','K','L','M','N','O','P','Q','R','S','T','U','V','W','X','Y','Z','?']\n",
    "for l in letters:\n",
    "    for i in range(0,1):\n",
    "        print (l)\n",
    "        tdf = df_good_p2[df_good_p2.rack.apply(lambda x:x.count(l)<2)]\n",
    "        tdf2 = df_good_p2[df_good_p2.rack.apply(lambda x:x.count(l)==2)]\n",
    "#        print(min(tdf[\"turn_score\"]), max(tdf[\"turn_score\"]))\n",
    "        if (tdf.shape[0]):\n",
    "            print(\"mean score with {:} {:}'s: {:}, ({:})\".format(i, l, round(np.mean(tdf[\"turn_score\"]), 2), \n",
    "                                                       tdf.shape[0]))\n",
    "            print(\"mean score with at least 1 {:}'s: {:}, ({:})\".format( l, round(np.mean(tdf2[\"turn_score\"]), 2), \n",
    "                                                       tdf2.shape[0])) \n",
    "            print(\"p-value: {:}\".format(stats.ttest_ind(tdf.turn_score, tdf2.turn_score).pvalue))\n",
    "#            print(tdf[\"gamenum\"], print(tdf[\"rack\"]))\n",
    "        ax.hist(tdf[\"turn_score\"], bins=100, density=True, alpha = .5, color='black')\n",
    "        ax.hist(tdf2[\"turn_score\"], bins=100, density=True, alpha=.5)\n",
    "        ax.set_xlim(left=0, right=125)\n",
    "        print(\" \")  \n",
    "    break;\n",
    "    print(\" \")"
   ]
  },
  {
   "cell_type": "code",
   "execution_count": null,
   "metadata": {},
   "outputs": [],
   "source": []
  }
 ],
 "metadata": {
  "kernelspec": {
   "display_name": "Python 3",
   "language": "python",
   "name": "python3"
  },
  "language_info": {
   "codemirror_mode": {
    "name": "ipython",
    "version": 3
   },
   "file_extension": ".py",
   "mimetype": "text/x-python",
   "name": "python",
   "nbconvert_exporter": "python",
   "pygments_lexer": "ipython3",
   "version": "3.7.4"
  }
 },
 "nbformat": 4,
 "nbformat_minor": 2
}
